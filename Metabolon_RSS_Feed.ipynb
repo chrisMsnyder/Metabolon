{
 "cells": [
  {
   "cell_type": "code",
   "execution_count": 32,
   "metadata": {},
   "outputs": [],
   "source": [
    "import feedparser\n",
    "import datetime"
   ]
  },
  {
   "cell_type": "code",
   "execution_count": 47,
   "metadata": {},
   "outputs": [
    {
     "data": {
      "text/plain": [
       "'2019-06-12T13:31:31'"
      ]
     },
     "execution_count": 47,
     "metadata": {},
     "output_type": "execute_result"
    }
   ],
   "source": [
    "now = datetime.datetime.now().strftime(\"%Y-%m-%dT%H:%M:%S\")\n",
    "now"
   ]
  },
  {
   "cell_type": "code",
   "execution_count": 72,
   "metadata": {},
   "outputs": [],
   "source": [
    "feed = feedparser.parse('http://www.reddit.com/.rss')"
   ]
  },
  {
   "cell_type": "code",
   "execution_count": 73,
   "metadata": {},
   "outputs": [
    {
     "name": "stdout",
     "output_type": "stream",
     "text": [
      "What is something that your profession allows you to do that would otherwise be illegal? \n",
      " 2019-06-12T06:34:17\n",
      "Nintendo delayed Animal Crossing because it didn't want to put its employees through excessive crunch. \n",
      " 2019-06-12T13:31:03\n",
      "You can't assault someone for saying the n word. \n",
      " 2019-06-12T05:43:40\n",
      "Donald Trump erupts after polls say he would lose to every major Democrat in 2020: 'They don't even exist' \n",
      " 2019-06-12T12:47:34\n",
      "My sister wants to be roasted \n",
      " 2019-06-12T02:38:25\n",
      "This is HongKong today. \n",
      " 2019-06-12T08:18:10\n",
      "Never buy cheap carpets for your car \n",
      " 2019-06-12T00:24:41\n",
      "When D&D submit an episode they both wrote and directed for the Emmys despite the fact that it’s rated as the worst episode in the series history by far \n",
      " 2019-06-12T13:23:49\n",
      "Police chief gives $575 ticket for tossing cigarette butt out window \n",
      " 2019-06-12T12:30:06\n",
      "Are memes allowed on this sub? \n",
      " 2019-06-12T13:30:24\n",
      "If you haven’t seen his channel, please check it out. It’s honestly a breath of fresh air. \n",
      " 2019-06-12T12:48:47\n",
      "Busted, Mugshot of 2 year old Francois Bertillon. His crime? Eating all the pears in the basket. His father, Alphonse Bertillon also happened to be the father of the modern mugshot. 1893 \n",
      " 2019-06-12T13:09:31\n",
      "My hag of a stepmom gave away my Playstation 4 while I was away in college. So I rent out \"her\" house while she was on her honeymoon with her newest husband. \n",
      " 2019-06-12T04:16:34\n",
      "Thor's Wakanda Entrance Will Forever Be Legendary And Iconic. I Also Love How Easily He Wrecked Thanos's Ships \n",
      " 2019-06-12T13:05:43\n",
      "A very chilling poster seen at a protest against Hong Kong's extradition treaty with China \n",
      " 2019-06-12T12:00:41\n",
      "Hong Kong shops, workers in rare strike to 'defend freedom' \n",
      " 2019-06-12T08:34:16\n",
      "To not let the kids father see their kids. \n",
      " 2019-06-12T08:56:26\n",
      "Slow days on reddit... \n",
      " 2019-06-12T13:01:13\n",
      "Seriously, This Guy Works For FOX News \n",
      " 2019-06-12T13:33:57\n",
      "I think boomers are intentionally getting worse \n",
      " 2019-06-12T03:33:12\n",
      "Ok \n",
      " 2019-06-12T12:38:06\n",
      "As someone who just started their own little outdoor garden, I'd be so pissed \n",
      " 2019-06-12T02:23:23\n",
      "What a save \n",
      " 2019-06-12T10:12:02\n",
      "[Rich Paul on if the Celtics trade for AD] The Celtics can trade for AD, but it'll be for only one year. \n",
      " 2019-06-12T13:12:10\n",
      "Half the jobs in America pay less than $18 an hour. \n",
      " 2019-06-12T00:56:55\n"
     ]
    }
   ],
   "source": [
    "for f in feed.entries:\n",
    "    date = f.updated\n",
    "    date = date[:-6]\n",
    "    print(f.title, '\\n', date)"
   ]
  },
  {
   "cell_type": "code",
   "execution_count": null,
   "metadata": {},
   "outputs": [],
   "source": []
  },
  {
   "cell_type": "code",
   "execution_count": null,
   "metadata": {},
   "outputs": [],
   "source": []
  }
 ],
 "metadata": {
  "kernelspec": {
   "display_name": "Python 3",
   "language": "python",
   "name": "python3"
  },
  "language_info": {
   "codemirror_mode": {
    "name": "ipython",
    "version": 3
   },
   "file_extension": ".py",
   "mimetype": "text/x-python",
   "name": "python",
   "nbconvert_exporter": "python",
   "pygments_lexer": "ipython3",
   "version": "3.6.8"
  }
 },
 "nbformat": 4,
 "nbformat_minor": 2
}
